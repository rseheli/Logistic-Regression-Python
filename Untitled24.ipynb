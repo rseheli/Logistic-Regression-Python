{
 "cells": [
  {
   "cell_type": "code",
   "execution_count": 1,
   "metadata": {},
   "outputs": [],
   "source": [
    "#This model is building a logistic regression model to predict if the content was shared or not.\n",
    "#Installing necessary libraries\n",
    "\n",
    "\n",
    "import pandas as pd\n",
    "import numpy as np\n",
    "import seaborn as sns\n",
    "%matplotlib inline"
   ]
  },
  {
   "cell_type": "code",
   "execution_count": 2,
   "metadata": {},
   "outputs": [
    {
     "data": {
      "text/plain": [
       "'C:\\\\Users\\\\rehnu'"
      ]
     },
     "execution_count": 2,
     "metadata": {},
     "output_type": "execute_result"
    }
   ],
   "source": [
    "pwd"
   ]
  },
  {
   "cell_type": "code",
   "execution_count": 3,
   "metadata": {},
   "outputs": [
    {
     "name": "stdout",
     "output_type": "stream",
     "text": [
      "C:\\Users\\rehnu\\OneDrive\\Desktop\\Python!\n"
     ]
    }
   ],
   "source": [
    "cd C:\\Users\\rehnu\\OneDrive\\Desktop\\Python!"
   ]
  },
  {
   "cell_type": "code",
   "execution_count": 5,
   "metadata": {},
   "outputs": [],
   "source": [
    "#Loading the dataset\n",
    "\n",
    "Popularity = pd.read_csv(\"NewsPopularity_Logistics_BB2.csv\")"
   ]
  },
  {
   "cell_type": "code",
   "execution_count": 6,
   "metadata": {},
   "outputs": [
    {
     "data": {
      "text/html": [
       "<div>\n",
       "<style scoped>\n",
       "    .dataframe tbody tr th:only-of-type {\n",
       "        vertical-align: middle;\n",
       "    }\n",
       "\n",
       "    .dataframe tbody tr th {\n",
       "        vertical-align: top;\n",
       "    }\n",
       "\n",
       "    .dataframe thead th {\n",
       "        text-align: right;\n",
       "    }\n",
       "</style>\n",
       "<table border=\"1\" class=\"dataframe\">\n",
       "  <thead>\n",
       "    <tr style=\"text-align: right;\">\n",
       "      <th></th>\n",
       "      <th>length_title</th>\n",
       "      <th>length_content</th>\n",
       "      <th>images</th>\n",
       "      <th>videos</th>\n",
       "      <th>keywords</th>\n",
       "      <th>onWeekend</th>\n",
       "      <th>Relevancy</th>\n",
       "      <th>positive_words</th>\n",
       "      <th>negative_words</th>\n",
       "      <th>title_subjectivity</th>\n",
       "      <th>title_sentiments</th>\n",
       "      <th>wasShared</th>\n",
       "    </tr>\n",
       "  </thead>\n",
       "  <tbody>\n",
       "    <tr>\n",
       "      <td>0</td>\n",
       "      <td>12</td>\n",
       "      <td>219</td>\n",
       "      <td>1</td>\n",
       "      <td>0</td>\n",
       "      <td>5</td>\n",
       "      <td>No</td>\n",
       "      <td>0.500331</td>\n",
       "      <td>0.769231</td>\n",
       "      <td>0.230769</td>\n",
       "      <td>0.500000</td>\n",
       "      <td>-0.187500</td>\n",
       "      <td>NO</td>\n",
       "    </tr>\n",
       "    <tr>\n",
       "      <td>1</td>\n",
       "      <td>9</td>\n",
       "      <td>255</td>\n",
       "      <td>1</td>\n",
       "      <td>0</td>\n",
       "      <td>4</td>\n",
       "      <td>No</td>\n",
       "      <td>0.799756</td>\n",
       "      <td>0.733333</td>\n",
       "      <td>0.266667</td>\n",
       "      <td>0.000000</td>\n",
       "      <td>0.000000</td>\n",
       "      <td>NO</td>\n",
       "    </tr>\n",
       "    <tr>\n",
       "      <td>2</td>\n",
       "      <td>9</td>\n",
       "      <td>211</td>\n",
       "      <td>1</td>\n",
       "      <td>0</td>\n",
       "      <td>6</td>\n",
       "      <td>No</td>\n",
       "      <td>0.217792</td>\n",
       "      <td>0.857143</td>\n",
       "      <td>0.142857</td>\n",
       "      <td>0.000000</td>\n",
       "      <td>0.000000</td>\n",
       "      <td>Yes</td>\n",
       "    </tr>\n",
       "    <tr>\n",
       "      <td>3</td>\n",
       "      <td>9</td>\n",
       "      <td>531</td>\n",
       "      <td>1</td>\n",
       "      <td>0</td>\n",
       "      <td>7</td>\n",
       "      <td>No</td>\n",
       "      <td>0.028573</td>\n",
       "      <td>0.666667</td>\n",
       "      <td>0.333333</td>\n",
       "      <td>0.000000</td>\n",
       "      <td>0.000000</td>\n",
       "      <td>Yes</td>\n",
       "    </tr>\n",
       "    <tr>\n",
       "      <td>4</td>\n",
       "      <td>13</td>\n",
       "      <td>1072</td>\n",
       "      <td>20</td>\n",
       "      <td>0</td>\n",
       "      <td>7</td>\n",
       "      <td>No</td>\n",
       "      <td>0.028633</td>\n",
       "      <td>0.860215</td>\n",
       "      <td>0.139785</td>\n",
       "      <td>0.454545</td>\n",
       "      <td>0.136364</td>\n",
       "      <td>NO</td>\n",
       "    </tr>\n",
       "  </tbody>\n",
       "</table>\n",
       "</div>"
      ],
      "text/plain": [
       "   length_title   length_content  images  videos   keywords onWeekend  \\\n",
       "0            12              219       1       0          5        No   \n",
       "1             9              255       1       0          4        No   \n",
       "2             9              211       1       0          6        No   \n",
       "3             9              531       1       0          7        No   \n",
       "4            13             1072      20       0          7        No   \n",
       "\n",
       "   Relevancy  positive_words  negative_words   title_subjectivity  \\\n",
       "0   0.500331        0.769231        0.230769             0.500000   \n",
       "1   0.799756        0.733333        0.266667             0.000000   \n",
       "2   0.217792        0.857143        0.142857             0.000000   \n",
       "3   0.028573        0.666667        0.333333             0.000000   \n",
       "4   0.028633        0.860215        0.139785             0.454545   \n",
       "\n",
       "    title_sentiments wasShared  \n",
       "0          -0.187500        NO  \n",
       "1           0.000000        NO  \n",
       "2           0.000000       Yes  \n",
       "3           0.000000       Yes  \n",
       "4           0.136364        NO  "
      ]
     },
     "execution_count": 6,
     "metadata": {},
     "output_type": "execute_result"
    }
   ],
   "source": [
    "#Showing first few rows of the dataset\n",
    "\n",
    "Popularity.head()"
   ]
  },
  {
   "cell_type": "code",
   "execution_count": 7,
   "metadata": {},
   "outputs": [
    {
     "data": {
      "text/html": [
       "<div>\n",
       "<style scoped>\n",
       "    .dataframe tbody tr th:only-of-type {\n",
       "        vertical-align: middle;\n",
       "    }\n",
       "\n",
       "    .dataframe tbody tr th {\n",
       "        vertical-align: top;\n",
       "    }\n",
       "\n",
       "    .dataframe thead th {\n",
       "        text-align: right;\n",
       "    }\n",
       "</style>\n",
       "<table border=\"1\" class=\"dataframe\">\n",
       "  <thead>\n",
       "    <tr style=\"text-align: right;\">\n",
       "      <th></th>\n",
       "      <th>length_title</th>\n",
       "      <th>length_content</th>\n",
       "      <th>images</th>\n",
       "      <th>videos</th>\n",
       "      <th>keywords</th>\n",
       "      <th>onWeekend</th>\n",
       "      <th>Relevancy</th>\n",
       "      <th>positive_words</th>\n",
       "      <th>negative_words</th>\n",
       "      <th>title_subjectivity</th>\n",
       "      <th>title_sentiments</th>\n",
       "      <th>wasShared</th>\n",
       "    </tr>\n",
       "  </thead>\n",
       "  <tbody>\n",
       "    <tr>\n",
       "      <td>39639</td>\n",
       "      <td>11</td>\n",
       "      <td>346</td>\n",
       "      <td>1</td>\n",
       "      <td>1</td>\n",
       "      <td>8</td>\n",
       "      <td>No</td>\n",
       "      <td>0.025038</td>\n",
       "      <td>0.722222</td>\n",
       "      <td>0.277778</td>\n",
       "      <td>0.100000</td>\n",
       "      <td>0.000000</td>\n",
       "      <td>Yes</td>\n",
       "    </tr>\n",
       "    <tr>\n",
       "      <td>39640</td>\n",
       "      <td>12</td>\n",
       "      <td>328</td>\n",
       "      <td>3</td>\n",
       "      <td>48</td>\n",
       "      <td>7</td>\n",
       "      <td>No</td>\n",
       "      <td>0.029349</td>\n",
       "      <td>0.812500</td>\n",
       "      <td>0.187500</td>\n",
       "      <td>0.300000</td>\n",
       "      <td>1.000000</td>\n",
       "      <td>Yes</td>\n",
       "    </tr>\n",
       "    <tr>\n",
       "      <td>39641</td>\n",
       "      <td>10</td>\n",
       "      <td>442</td>\n",
       "      <td>12</td>\n",
       "      <td>1</td>\n",
       "      <td>8</td>\n",
       "      <td>No</td>\n",
       "      <td>0.159004</td>\n",
       "      <td>0.576923</td>\n",
       "      <td>0.423077</td>\n",
       "      <td>0.454545</td>\n",
       "      <td>0.136364</td>\n",
       "      <td>Yes</td>\n",
       "    </tr>\n",
       "    <tr>\n",
       "      <td>39642</td>\n",
       "      <td>6</td>\n",
       "      <td>682</td>\n",
       "      <td>1</td>\n",
       "      <td>0</td>\n",
       "      <td>5</td>\n",
       "      <td>No</td>\n",
       "      <td>0.040004</td>\n",
       "      <td>0.466667</td>\n",
       "      <td>0.533333</td>\n",
       "      <td>0.000000</td>\n",
       "      <td>0.000000</td>\n",
       "      <td>Yes</td>\n",
       "    </tr>\n",
       "    <tr>\n",
       "      <td>39643</td>\n",
       "      <td>10</td>\n",
       "      <td>157</td>\n",
       "      <td>0</td>\n",
       "      <td>2</td>\n",
       "      <td>4</td>\n",
       "      <td>No</td>\n",
       "      <td>0.050001</td>\n",
       "      <td>0.833333</td>\n",
       "      <td>0.166667</td>\n",
       "      <td>0.333333</td>\n",
       "      <td>0.250000</td>\n",
       "      <td>Yes</td>\n",
       "    </tr>\n",
       "  </tbody>\n",
       "</table>\n",
       "</div>"
      ],
      "text/plain": [
       "       length_title   length_content  images  videos   keywords onWeekend  \\\n",
       "39639            11              346       1       1          8        No   \n",
       "39640            12              328       3      48          7        No   \n",
       "39641            10              442      12       1          8        No   \n",
       "39642             6              682       1       0          5        No   \n",
       "39643            10              157       0       2          4        No   \n",
       "\n",
       "       Relevancy  positive_words  negative_words   title_subjectivity  \\\n",
       "39639   0.025038        0.722222        0.277778             0.100000   \n",
       "39640   0.029349        0.812500        0.187500             0.300000   \n",
       "39641   0.159004        0.576923        0.423077             0.454545   \n",
       "39642   0.040004        0.466667        0.533333             0.000000   \n",
       "39643   0.050001        0.833333        0.166667             0.333333   \n",
       "\n",
       "        title_sentiments wasShared  \n",
       "39639           0.000000       Yes  \n",
       "39640           1.000000       Yes  \n",
       "39641           0.136364       Yes  \n",
       "39642           0.000000       Yes  \n",
       "39643           0.250000       Yes  "
      ]
     },
     "execution_count": 7,
     "metadata": {},
     "output_type": "execute_result"
    }
   ],
   "source": [
    "#Showing last few rows of the dataset\n",
    "\n",
    "Popularity.tail()"
   ]
  },
  {
   "cell_type": "code",
   "execution_count": 8,
   "metadata": {},
   "outputs": [
    {
     "name": "stdout",
     "output_type": "stream",
     "text": [
      "<class 'pandas.core.frame.DataFrame'>\n",
      "RangeIndex: 39644 entries, 0 to 39643\n",
      "Data columns (total 12 columns):\n",
      "length_title           39644 non-null int64\n",
      " length_content        39644 non-null int64\n",
      "images                 39644 non-null int64\n",
      "videos                 39644 non-null int64\n",
      " keywords              39644 non-null int64\n",
      "onWeekend              39644 non-null object\n",
      "Relevancy              39644 non-null float64\n",
      "positive_words         39644 non-null float64\n",
      "negative_words         39644 non-null float64\n",
      " title_subjectivity    39644 non-null float64\n",
      " title_sentiments      39644 non-null float64\n",
      "wasShared              39644 non-null object\n",
      "dtypes: float64(5), int64(5), object(2)\n",
      "memory usage: 3.6+ MB\n"
     ]
    }
   ],
   "source": [
    "#Observing column type of the dataset\n",
    "\n",
    "Popularity.info()"
   ]
  },
  {
   "cell_type": "code",
   "execution_count": 9,
   "metadata": {},
   "outputs": [
    {
     "data": {
      "text/plain": [
       "(39644, 12)"
      ]
     },
     "execution_count": 9,
     "metadata": {},
     "output_type": "execute_result"
    }
   ],
   "source": [
    "#Showing number of rows and columns of the dataset\n",
    "\n",
    "Popularity.shape"
   ]
  },
  {
   "cell_type": "code",
   "execution_count": 10,
   "metadata": {},
   "outputs": [
    {
     "data": {
      "text/plain": [
       "length_title           0\n",
       " length_content        0\n",
       "images                 0\n",
       "videos                 0\n",
       " keywords              0\n",
       "onWeekend              0\n",
       "Relevancy              0\n",
       "positive_words         0\n",
       "negative_words         0\n",
       " title_subjectivity    0\n",
       " title_sentiments      0\n",
       "wasShared              0\n",
       "dtype: int64"
      ]
     },
     "execution_count": 10,
     "metadata": {},
     "output_type": "execute_result"
    }
   ],
   "source": [
    "#Observing if there is any missing data on the file. No missing value found.\n",
    "\n",
    "Popularity.isnull().sum()"
   ]
  },
  {
   "cell_type": "code",
   "execution_count": 11,
   "metadata": {},
   "outputs": [],
   "source": [
    "#There were two categorical columns ('onWeekend' and 'wasShared'). Making them binary.\n",
    "\n",
    "\n",
    "Popularity['onWeekend'] = Popularity['onWeekend'].map({'Yes' : 1, 'No' : 0})\n",
    "Popularity['wasShared'] = Popularity['wasShared'].map({'Yes' : 1, 'NO' : 0})"
   ]
  },
  {
   "cell_type": "code",
   "execution_count": 12,
   "metadata": {},
   "outputs": [
    {
     "data": {
      "text/html": [
       "<div>\n",
       "<style scoped>\n",
       "    .dataframe tbody tr th:only-of-type {\n",
       "        vertical-align: middle;\n",
       "    }\n",
       "\n",
       "    .dataframe tbody tr th {\n",
       "        vertical-align: top;\n",
       "    }\n",
       "\n",
       "    .dataframe thead th {\n",
       "        text-align: right;\n",
       "    }\n",
       "</style>\n",
       "<table border=\"1\" class=\"dataframe\">\n",
       "  <thead>\n",
       "    <tr style=\"text-align: right;\">\n",
       "      <th></th>\n",
       "      <th>length_title</th>\n",
       "      <th>length_content</th>\n",
       "      <th>images</th>\n",
       "      <th>videos</th>\n",
       "      <th>keywords</th>\n",
       "      <th>onWeekend</th>\n",
       "      <th>Relevancy</th>\n",
       "      <th>positive_words</th>\n",
       "      <th>negative_words</th>\n",
       "      <th>title_subjectivity</th>\n",
       "      <th>title_sentiments</th>\n",
       "      <th>wasShared</th>\n",
       "    </tr>\n",
       "  </thead>\n",
       "  <tbody>\n",
       "    <tr>\n",
       "      <td>0</td>\n",
       "      <td>12</td>\n",
       "      <td>219</td>\n",
       "      <td>1</td>\n",
       "      <td>0</td>\n",
       "      <td>5</td>\n",
       "      <td>0</td>\n",
       "      <td>0.500331</td>\n",
       "      <td>0.769231</td>\n",
       "      <td>0.230769</td>\n",
       "      <td>0.500000</td>\n",
       "      <td>-0.187500</td>\n",
       "      <td>0</td>\n",
       "    </tr>\n",
       "    <tr>\n",
       "      <td>1</td>\n",
       "      <td>9</td>\n",
       "      <td>255</td>\n",
       "      <td>1</td>\n",
       "      <td>0</td>\n",
       "      <td>4</td>\n",
       "      <td>0</td>\n",
       "      <td>0.799756</td>\n",
       "      <td>0.733333</td>\n",
       "      <td>0.266667</td>\n",
       "      <td>0.000000</td>\n",
       "      <td>0.000000</td>\n",
       "      <td>0</td>\n",
       "    </tr>\n",
       "    <tr>\n",
       "      <td>2</td>\n",
       "      <td>9</td>\n",
       "      <td>211</td>\n",
       "      <td>1</td>\n",
       "      <td>0</td>\n",
       "      <td>6</td>\n",
       "      <td>0</td>\n",
       "      <td>0.217792</td>\n",
       "      <td>0.857143</td>\n",
       "      <td>0.142857</td>\n",
       "      <td>0.000000</td>\n",
       "      <td>0.000000</td>\n",
       "      <td>1</td>\n",
       "    </tr>\n",
       "    <tr>\n",
       "      <td>3</td>\n",
       "      <td>9</td>\n",
       "      <td>531</td>\n",
       "      <td>1</td>\n",
       "      <td>0</td>\n",
       "      <td>7</td>\n",
       "      <td>0</td>\n",
       "      <td>0.028573</td>\n",
       "      <td>0.666667</td>\n",
       "      <td>0.333333</td>\n",
       "      <td>0.000000</td>\n",
       "      <td>0.000000</td>\n",
       "      <td>1</td>\n",
       "    </tr>\n",
       "    <tr>\n",
       "      <td>4</td>\n",
       "      <td>13</td>\n",
       "      <td>1072</td>\n",
       "      <td>20</td>\n",
       "      <td>0</td>\n",
       "      <td>7</td>\n",
       "      <td>0</td>\n",
       "      <td>0.028633</td>\n",
       "      <td>0.860215</td>\n",
       "      <td>0.139785</td>\n",
       "      <td>0.454545</td>\n",
       "      <td>0.136364</td>\n",
       "      <td>0</td>\n",
       "    </tr>\n",
       "  </tbody>\n",
       "</table>\n",
       "</div>"
      ],
      "text/plain": [
       "   length_title   length_content  images  videos   keywords  onWeekend  \\\n",
       "0            12              219       1       0          5          0   \n",
       "1             9              255       1       0          4          0   \n",
       "2             9              211       1       0          6          0   \n",
       "3             9              531       1       0          7          0   \n",
       "4            13             1072      20       0          7          0   \n",
       "\n",
       "   Relevancy  positive_words  negative_words   title_subjectivity  \\\n",
       "0   0.500331        0.769231        0.230769             0.500000   \n",
       "1   0.799756        0.733333        0.266667             0.000000   \n",
       "2   0.217792        0.857143        0.142857             0.000000   \n",
       "3   0.028573        0.666667        0.333333             0.000000   \n",
       "4   0.028633        0.860215        0.139785             0.454545   \n",
       "\n",
       "    title_sentiments  wasShared  \n",
       "0          -0.187500          0  \n",
       "1           0.000000          0  \n",
       "2           0.000000          1  \n",
       "3           0.000000          1  \n",
       "4           0.136364          0  "
      ]
     },
     "execution_count": 12,
     "metadata": {},
     "output_type": "execute_result"
    }
   ],
   "source": [
    "#Again showing the first few rows of the file to see if those categorical columns are now integer or not.\n",
    "\n",
    "Popularity.head()"
   ]
  },
  {
   "cell_type": "code",
   "execution_count": 13,
   "metadata": {},
   "outputs": [
    {
     "name": "stdout",
     "output_type": "stream",
     "text": [
      "<class 'pandas.core.frame.DataFrame'>\n",
      "RangeIndex: 39644 entries, 0 to 39643\n",
      "Data columns (total 12 columns):\n",
      "length_title           39644 non-null int64\n",
      " length_content        39644 non-null int64\n",
      "images                 39644 non-null int64\n",
      "videos                 39644 non-null int64\n",
      " keywords              39644 non-null int64\n",
      "onWeekend              39644 non-null int64\n",
      "Relevancy              39644 non-null float64\n",
      "positive_words         39644 non-null float64\n",
      "negative_words         39644 non-null float64\n",
      " title_subjectivity    39644 non-null float64\n",
      " title_sentiments      39644 non-null float64\n",
      "wasShared              39644 non-null int64\n",
      "dtypes: float64(5), int64(7)\n",
      "memory usage: 3.6 MB\n"
     ]
    }
   ],
   "source": [
    "#Observing the column type of the data file.\n",
    "\n",
    "Popularity.info()"
   ]
  },
  {
   "cell_type": "code",
   "execution_count": 14,
   "metadata": {},
   "outputs": [],
   "source": [
    "#showing the percentage of time the content was shared.\n",
    "\n",
    "wasShared = (sum(Popularity['wasShared'])/len(Popularity['wasShared'].index))*100"
   ]
  },
  {
   "cell_type": "code",
   "execution_count": 15,
   "metadata": {},
   "outputs": [
    {
     "data": {
      "text/plain": [
       "68.66108364443548"
      ]
     },
     "execution_count": 15,
     "metadata": {},
     "output_type": "execute_result"
    }
   ],
   "source": [
    "wasShared"
   ]
  },
  {
   "cell_type": "code",
   "execution_count": 16,
   "metadata": {},
   "outputs": [],
   "source": [
    "#Importing sklearn library and train_test_split for spliting the data file into test and train\n",
    "\n",
    "from sklearn.model_selection import train_test_split"
   ]
  },
  {
   "cell_type": "code",
   "execution_count": 17,
   "metadata": {},
   "outputs": [],
   "source": [
    "#Declaring depending and independing variables\n",
    "\n",
    "x = Popularity.drop(['wasShared'], axis = 1)\n",
    "\n",
    "y = Popularity['wasShared']"
   ]
  },
  {
   "cell_type": "code",
   "execution_count": 18,
   "metadata": {},
   "outputs": [
    {
     "data": {
      "text/html": [
       "<div>\n",
       "<style scoped>\n",
       "    .dataframe tbody tr th:only-of-type {\n",
       "        vertical-align: middle;\n",
       "    }\n",
       "\n",
       "    .dataframe tbody tr th {\n",
       "        vertical-align: top;\n",
       "    }\n",
       "\n",
       "    .dataframe thead th {\n",
       "        text-align: right;\n",
       "    }\n",
       "</style>\n",
       "<table border=\"1\" class=\"dataframe\">\n",
       "  <thead>\n",
       "    <tr style=\"text-align: right;\">\n",
       "      <th></th>\n",
       "      <th>length_title</th>\n",
       "      <th>length_content</th>\n",
       "      <th>images</th>\n",
       "      <th>videos</th>\n",
       "      <th>keywords</th>\n",
       "      <th>onWeekend</th>\n",
       "      <th>Relevancy</th>\n",
       "      <th>positive_words</th>\n",
       "      <th>negative_words</th>\n",
       "      <th>title_subjectivity</th>\n",
       "      <th>title_sentiments</th>\n",
       "    </tr>\n",
       "  </thead>\n",
       "  <tbody>\n",
       "    <tr>\n",
       "      <td>0</td>\n",
       "      <td>12</td>\n",
       "      <td>219</td>\n",
       "      <td>1</td>\n",
       "      <td>0</td>\n",
       "      <td>5</td>\n",
       "      <td>0</td>\n",
       "      <td>0.500331</td>\n",
       "      <td>0.769231</td>\n",
       "      <td>0.230769</td>\n",
       "      <td>0.500000</td>\n",
       "      <td>-0.187500</td>\n",
       "    </tr>\n",
       "    <tr>\n",
       "      <td>1</td>\n",
       "      <td>9</td>\n",
       "      <td>255</td>\n",
       "      <td>1</td>\n",
       "      <td>0</td>\n",
       "      <td>4</td>\n",
       "      <td>0</td>\n",
       "      <td>0.799756</td>\n",
       "      <td>0.733333</td>\n",
       "      <td>0.266667</td>\n",
       "      <td>0.000000</td>\n",
       "      <td>0.000000</td>\n",
       "    </tr>\n",
       "    <tr>\n",
       "      <td>2</td>\n",
       "      <td>9</td>\n",
       "      <td>211</td>\n",
       "      <td>1</td>\n",
       "      <td>0</td>\n",
       "      <td>6</td>\n",
       "      <td>0</td>\n",
       "      <td>0.217792</td>\n",
       "      <td>0.857143</td>\n",
       "      <td>0.142857</td>\n",
       "      <td>0.000000</td>\n",
       "      <td>0.000000</td>\n",
       "    </tr>\n",
       "    <tr>\n",
       "      <td>3</td>\n",
       "      <td>9</td>\n",
       "      <td>531</td>\n",
       "      <td>1</td>\n",
       "      <td>0</td>\n",
       "      <td>7</td>\n",
       "      <td>0</td>\n",
       "      <td>0.028573</td>\n",
       "      <td>0.666667</td>\n",
       "      <td>0.333333</td>\n",
       "      <td>0.000000</td>\n",
       "      <td>0.000000</td>\n",
       "    </tr>\n",
       "    <tr>\n",
       "      <td>4</td>\n",
       "      <td>13</td>\n",
       "      <td>1072</td>\n",
       "      <td>20</td>\n",
       "      <td>0</td>\n",
       "      <td>7</td>\n",
       "      <td>0</td>\n",
       "      <td>0.028633</td>\n",
       "      <td>0.860215</td>\n",
       "      <td>0.139785</td>\n",
       "      <td>0.454545</td>\n",
       "      <td>0.136364</td>\n",
       "    </tr>\n",
       "  </tbody>\n",
       "</table>\n",
       "</div>"
      ],
      "text/plain": [
       "   length_title   length_content  images  videos   keywords  onWeekend  \\\n",
       "0            12              219       1       0          5          0   \n",
       "1             9              255       1       0          4          0   \n",
       "2             9              211       1       0          6          0   \n",
       "3             9              531       1       0          7          0   \n",
       "4            13             1072      20       0          7          0   \n",
       "\n",
       "   Relevancy  positive_words  negative_words   title_subjectivity  \\\n",
       "0   0.500331        0.769231        0.230769             0.500000   \n",
       "1   0.799756        0.733333        0.266667             0.000000   \n",
       "2   0.217792        0.857143        0.142857             0.000000   \n",
       "3   0.028573        0.666667        0.333333             0.000000   \n",
       "4   0.028633        0.860215        0.139785             0.454545   \n",
       "\n",
       "    title_sentiments  \n",
       "0          -0.187500  \n",
       "1           0.000000  \n",
       "2           0.000000  \n",
       "3           0.000000  \n",
       "4           0.136364  "
      ]
     },
     "execution_count": 18,
     "metadata": {},
     "output_type": "execute_result"
    }
   ],
   "source": [
    "#Showing all independent variables\n",
    "\n",
    "x.head()"
   ]
  },
  {
   "cell_type": "code",
   "execution_count": 19,
   "metadata": {},
   "outputs": [
    {
     "data": {
      "text/plain": [
       "0    0\n",
       "1    0\n",
       "2    1\n",
       "3    1\n",
       "4    0\n",
       "Name: wasShared, dtype: int64"
      ]
     },
     "execution_count": 19,
     "metadata": {},
     "output_type": "execute_result"
    }
   ],
   "source": [
    "#Showing dependent variable\n",
    "\n",
    "y.head()"
   ]
  },
  {
   "cell_type": "code",
   "execution_count": 20,
   "metadata": {},
   "outputs": [],
   "source": [
    "#Spliting dependent and independent variables into 70% and 30% train and test categories.\n",
    "\n",
    "x_train, x_test, y_train, y_test = train_test_split(x,y, train_size = 0.7, test_size = 0.3, random_state = 100)"
   ]
  },
  {
   "cell_type": "code",
   "execution_count": 21,
   "metadata": {},
   "outputs": [],
   "source": [
    "import statsmodels.api as sm"
   ]
  },
  {
   "cell_type": "code",
   "execution_count": 22,
   "metadata": {},
   "outputs": [
    {
     "name": "stderr",
     "output_type": "stream",
     "text": [
      "C:\\Users\\rehnu\\Anaconda3\\lib\\site-packages\\numpy\\core\\fromnumeric.py:2389: FutureWarning: Method .ptp is deprecated and will be removed in a future version. Use numpy.ptp instead.\n",
      "  return ptp(axis=axis, out=out, **kwargs)\n"
     ]
    },
    {
     "data": {
      "text/html": [
       "<table class=\"simpletable\">\n",
       "<caption>Generalized Linear Model Regression Results</caption>\n",
       "<tr>\n",
       "  <th>Dep. Variable:</th>       <td>wasShared</td>    <th>  No. Observations:  </th>  <td> 27750</td> \n",
       "</tr>\n",
       "<tr>\n",
       "  <th>Model:</th>                  <td>GLM</td>       <th>  Df Residuals:      </th>  <td> 27738</td> \n",
       "</tr>\n",
       "<tr>\n",
       "  <th>Model Family:</th>        <td>Binomial</td>     <th>  Df Model:          </th>  <td>    11</td> \n",
       "</tr>\n",
       "<tr>\n",
       "  <th>Link Function:</th>         <td>logit</td>      <th>  Scale:             </th> <td>  1.0000</td>\n",
       "</tr>\n",
       "<tr>\n",
       "  <th>Method:</th>                <td>IRLS</td>       <th>  Log-Likelihood:    </th> <td> -16653.</td>\n",
       "</tr>\n",
       "<tr>\n",
       "  <th>Date:</th>            <td>Sun, 24 May 2020</td> <th>  Deviance:          </th> <td>  33306.</td>\n",
       "</tr>\n",
       "<tr>\n",
       "  <th>Time:</th>                <td>01:34:52</td>     <th>  Pearson chi2:      </th> <td>2.77e+04</td>\n",
       "</tr>\n",
       "<tr>\n",
       "  <th>No. Iterations:</th>          <td>5</td>        <th>                     </th>     <td> </td>   \n",
       "</tr>\n",
       "<tr>\n",
       "  <th>Covariance Type:</th>     <td>nonrobust</td>    <th>                     </th>     <td> </td>   \n",
       "</tr>\n",
       "</table>\n",
       "<table class=\"simpletable\">\n",
       "<tr>\n",
       "           <td></td>              <th>coef</th>     <th>std err</th>      <th>z</th>      <th>P>|z|</th>  <th>[0.025</th>    <th>0.975]</th>  \n",
       "</tr>\n",
       "<tr>\n",
       "  <th>const</th>               <td>    0.6499</td> <td>    0.118</td> <td>    5.492</td> <td> 0.000</td> <td>    0.418</td> <td>    0.882</td>\n",
       "</tr>\n",
       "<tr>\n",
       "  <th>length_title</th>        <td>   -0.0395</td> <td>    0.006</td> <td>   -6.264</td> <td> 0.000</td> <td>   -0.052</td> <td>   -0.027</td>\n",
       "</tr>\n",
       "<tr>\n",
       "  <th> length_content</th>     <td> 8.163e-05</td> <td> 3.26e-05</td> <td>    2.508</td> <td> 0.012</td> <td> 1.78e-05</td> <td>    0.000</td>\n",
       "</tr>\n",
       "<tr>\n",
       "  <th>images</th>              <td>    0.0157</td> <td>    0.002</td> <td>    8.097</td> <td> 0.000</td> <td>    0.012</td> <td>    0.019</td>\n",
       "</tr>\n",
       "<tr>\n",
       "  <th>videos</th>              <td>    0.0100</td> <td>    0.003</td> <td>    2.929</td> <td> 0.003</td> <td>    0.003</td> <td>    0.017</td>\n",
       "</tr>\n",
       "<tr>\n",
       "  <th> keywords</th>           <td>    0.0594</td> <td>    0.007</td> <td>    8.356</td> <td> 0.000</td> <td>    0.045</td> <td>    0.073</td>\n",
       "</tr>\n",
       "<tr>\n",
       "  <th>onWeekend</th>           <td>    1.1737</td> <td>    0.051</td> <td>   23.146</td> <td> 0.000</td> <td>    1.074</td> <td>    1.273</td>\n",
       "</tr>\n",
       "<tr>\n",
       "  <th>Relevancy</th>           <td>    0.6285</td> <td>    0.055</td> <td>   11.408</td> <td> 0.000</td> <td>    0.521</td> <td>    0.737</td>\n",
       "</tr>\n",
       "<tr>\n",
       "  <th>positive_words</th>      <td>   -0.0497</td> <td>    0.087</td> <td>   -0.574</td> <td> 0.566</td> <td>   -0.219</td> <td>    0.120</td>\n",
       "</tr>\n",
       "<tr>\n",
       "  <th>negative_words</th>      <td>   -0.8252</td> <td>    0.104</td> <td>   -7.937</td> <td> 0.000</td> <td>   -1.029</td> <td>   -0.621</td>\n",
       "</tr>\n",
       "<tr>\n",
       "  <th> title_subjectivity</th> <td>    0.1023</td> <td>    0.042</td> <td>    2.423</td> <td> 0.015</td> <td>    0.020</td> <td>    0.185</td>\n",
       "</tr>\n",
       "<tr>\n",
       "  <th> title_sentiments</th>   <td>    0.1819</td> <td>    0.053</td> <td>    3.443</td> <td> 0.001</td> <td>    0.078</td> <td>    0.285</td>\n",
       "</tr>\n",
       "</table>"
      ],
      "text/plain": [
       "<class 'statsmodels.iolib.summary.Summary'>\n",
       "\"\"\"\n",
       "                 Generalized Linear Model Regression Results                  \n",
       "==============================================================================\n",
       "Dep. Variable:              wasShared   No. Observations:                27750\n",
       "Model:                            GLM   Df Residuals:                    27738\n",
       "Model Family:                Binomial   Df Model:                           11\n",
       "Link Function:                  logit   Scale:                          1.0000\n",
       "Method:                          IRLS   Log-Likelihood:                -16653.\n",
       "Date:                Sun, 24 May 2020   Deviance:                       33306.\n",
       "Time:                        01:34:52   Pearson chi2:                 2.77e+04\n",
       "No. Iterations:                     5                                         \n",
       "Covariance Type:            nonrobust                                         \n",
       "=======================================================================================\n",
       "                          coef    std err          z      P>|z|      [0.025      0.975]\n",
       "---------------------------------------------------------------------------------------\n",
       "const                   0.6499      0.118      5.492      0.000       0.418       0.882\n",
       "length_title           -0.0395      0.006     -6.264      0.000      -0.052      -0.027\n",
       " length_content      8.163e-05   3.26e-05      2.508      0.012    1.78e-05       0.000\n",
       "images                  0.0157      0.002      8.097      0.000       0.012       0.019\n",
       "videos                  0.0100      0.003      2.929      0.003       0.003       0.017\n",
       " keywords               0.0594      0.007      8.356      0.000       0.045       0.073\n",
       "onWeekend               1.1737      0.051     23.146      0.000       1.074       1.273\n",
       "Relevancy               0.6285      0.055     11.408      0.000       0.521       0.737\n",
       "positive_words         -0.0497      0.087     -0.574      0.566      -0.219       0.120\n",
       "negative_words         -0.8252      0.104     -7.937      0.000      -1.029      -0.621\n",
       " title_subjectivity     0.1023      0.042      2.423      0.015       0.020       0.185\n",
       " title_sentiments       0.1819      0.053      3.443      0.001       0.078       0.285\n",
       "=======================================================================================\n",
       "\"\"\""
      ]
     },
     "execution_count": 22,
     "metadata": {},
     "output_type": "execute_result"
    }
   ],
   "source": [
    "#Buidling and Showing Linear Regression model\n",
    "\n",
    "logml = sm.GLM(y_train,(sm.add_constant(x_train)), family = sm.families.Binomial())\n",
    "logml.fit().summary()"
   ]
  },
  {
   "cell_type": "code",
   "execution_count": 23,
   "metadata": {},
   "outputs": [],
   "source": [
    "import matplotlib.pyplot as plt\n",
    "import seaborn as sns\n",
    "%matplotlib inline"
   ]
  },
  {
   "cell_type": "code",
   "execution_count": 24,
   "metadata": {},
   "outputs": [
    {
     "data": {
      "text/plain": [
       "<matplotlib.axes._subplots.AxesSubplot at 0x2952660b108>"
      ]
     },
     "execution_count": 24,
     "metadata": {},
     "output_type": "execute_result"
    },
    {
     "data": {
      "image/png": "[encoded data removed]",
      "text/plain": [
       "<Figure size 1440x720 with 2 Axes>"
      ]
     },
     "metadata": {
      "needs_background": "light"
     },
     "output_type": "display_data"
    }
   ],
   "source": [
    "#Creating a Heatmap of the data file.\n",
    "\n",
    "plt.figure(figsize = (20,10))\n",
    "sns.heatmap(Popularity.corr(), annot= True)"
   ]
  },
  {
   "cell_type": "code",
   "execution_count": 25,
   "metadata": {},
   "outputs": [],
   "source": [
    "#Removing 'positive_words' as it has high p-value and less impact on a content being shared.\n",
    "\n",
    "x_test2 = x_test.drop(['positive_words'],axis =1)\n",
    "x_train2 = x_train.drop(['positive_words'], axis = 1)"
   ]
  },
  {
   "cell_type": "code",
   "execution_count": 26,
   "metadata": {},
   "outputs": [
    {
     "data": {
      "text/plain": [
       "<matplotlib.axes._subplots.AxesSubplot at 0x29527006808>"
      ]
     },
     "execution_count": 26,
     "metadata": {},
     "output_type": "execute_result"
    },
    {
     "data": {
      "image/png": "[encoded data removed]",
      "text/plain": [
       "<Figure size 1440x720 with 2 Axes>"
      ]
     },
     "metadata": {
      "needs_background": "light"
     },
     "output_type": "display_data"
    }
   ],
   "source": [
    "#After deleting 'Positive_words' creating the Heatmap again.\n",
    "\n",
    "plt.figure(figsize = (20,10))\n",
    "sns.heatmap(x_train2.corr(), annot= True)"
   ]
  },
  {
   "cell_type": "code",
   "execution_count": 27,
   "metadata": {},
   "outputs": [
    {
     "data": {
      "text/html": [
       "<table class=\"simpletable\">\n",
       "<caption>Generalized Linear Model Regression Results</caption>\n",
       "<tr>\n",
       "  <th>Dep. Variable:</th>       <td>wasShared</td>    <th>  No. Observations:  </th>  <td> 27750</td> \n",
       "</tr>\n",
       "<tr>\n",
       "  <th>Model:</th>                  <td>GLM</td>       <th>  Df Residuals:      </th>  <td> 27739</td> \n",
       "</tr>\n",
       "<tr>\n",
       "  <th>Model Family:</th>        <td>Binomial</td>     <th>  Df Model:          </th>  <td>    10</td> \n",
       "</tr>\n",
       "<tr>\n",
       "  <th>Link Function:</th>         <td>logit</td>      <th>  Scale:             </th> <td>  1.0000</td>\n",
       "</tr>\n",
       "<tr>\n",
       "  <th>Method:</th>                <td>IRLS</td>       <th>  Log-Likelihood:    </th> <td> -16653.</td>\n",
       "</tr>\n",
       "<tr>\n",
       "  <th>Date:</th>            <td>Sun, 24 May 2020</td> <th>  Deviance:          </th> <td>  33306.</td>\n",
       "</tr>\n",
       "<tr>\n",
       "  <th>Time:</th>                <td>01:36:16</td>     <th>  Pearson chi2:      </th> <td>2.77e+04</td>\n",
       "</tr>\n",
       "<tr>\n",
       "  <th>No. Iterations:</th>          <td>5</td>        <th>                     </th>     <td> </td>   \n",
       "</tr>\n",
       "<tr>\n",
       "  <th>Covariance Type:</th>     <td>nonrobust</td>    <th>                     </th>     <td> </td>   \n",
       "</tr>\n",
       "</table>\n",
       "<table class=\"simpletable\">\n",
       "<tr>\n",
       "           <td></td>              <th>coef</th>     <th>std err</th>      <th>z</th>      <th>P>|z|</th>  <th>[0.025</th>    <th>0.975]</th>  \n",
       "</tr>\n",
       "<tr>\n",
       "  <th>const</th>               <td>    0.6067</td> <td>    0.091</td> <td>    6.648</td> <td> 0.000</td> <td>    0.428</td> <td>    0.786</td>\n",
       "</tr>\n",
       "<tr>\n",
       "  <th>length_title</th>        <td>   -0.0393</td> <td>    0.006</td> <td>   -6.244</td> <td> 0.000</td> <td>   -0.052</td> <td>   -0.027</td>\n",
       "</tr>\n",
       "<tr>\n",
       "  <th> length_content</th>     <td> 7.817e-05</td> <td>  3.2e-05</td> <td>    2.446</td> <td> 0.014</td> <td> 1.55e-05</td> <td>    0.000</td>\n",
       "</tr>\n",
       "<tr>\n",
       "  <th>images</th>              <td>    0.0157</td> <td>    0.002</td> <td>    8.132</td> <td> 0.000</td> <td>    0.012</td> <td>    0.020</td>\n",
       "</tr>\n",
       "<tr>\n",
       "  <th>videos</th>              <td>    0.0100</td> <td>    0.003</td> <td>    2.942</td> <td> 0.003</td> <td>    0.003</td> <td>    0.017</td>\n",
       "</tr>\n",
       "<tr>\n",
       "  <th> keywords</th>           <td>    0.0594</td> <td>    0.007</td> <td>    8.357</td> <td> 0.000</td> <td>    0.045</td> <td>    0.073</td>\n",
       "</tr>\n",
       "<tr>\n",
       "  <th>onWeekend</th>           <td>    1.1738</td> <td>    0.051</td> <td>   23.151</td> <td> 0.000</td> <td>    1.074</td> <td>    1.273</td>\n",
       "</tr>\n",
       "<tr>\n",
       "  <th>Relevancy</th>           <td>    0.6256</td> <td>    0.055</td> <td>   11.404</td> <td> 0.000</td> <td>    0.518</td> <td>    0.733</td>\n",
       "</tr>\n",
       "<tr>\n",
       "  <th>negative_words</th>      <td>   -0.7926</td> <td>    0.087</td> <td>   -9.123</td> <td> 0.000</td> <td>   -0.963</td> <td>   -0.622</td>\n",
       "</tr>\n",
       "<tr>\n",
       "  <th> title_subjectivity</th> <td>    0.1032</td> <td>    0.042</td> <td>    2.445</td> <td> 0.015</td> <td>    0.020</td> <td>    0.186</td>\n",
       "</tr>\n",
       "<tr>\n",
       "  <th> title_sentiments</th>   <td>    0.1803</td> <td>    0.053</td> <td>    3.418</td> <td> 0.001</td> <td>    0.077</td> <td>    0.284</td>\n",
       "</tr>\n",
       "</table>"
      ],
      "text/plain": [
       "<class 'statsmodels.iolib.summary.Summary'>\n",
       "\"\"\"\n",
       "                 Generalized Linear Model Regression Results                  \n",
       "==============================================================================\n",
       "Dep. Variable:              wasShared   No. Observations:                27750\n",
       "Model:                            GLM   Df Residuals:                    27739\n",
       "Model Family:                Binomial   Df Model:                           10\n",
       "Link Function:                  logit   Scale:                          1.0000\n",
       "Method:                          IRLS   Log-Likelihood:                -16653.\n",
       "Date:                Sun, 24 May 2020   Deviance:                       33306.\n",
       "Time:                        01:36:16   Pearson chi2:                 2.77e+04\n",
       "No. Iterations:                     5                                         \n",
       "Covariance Type:            nonrobust                                         \n",
       "=======================================================================================\n",
       "                          coef    std err          z      P>|z|      [0.025      0.975]\n",
       "---------------------------------------------------------------------------------------\n",
       "const                   0.6067      0.091      6.648      0.000       0.428       0.786\n",
       "length_title           -0.0393      0.006     -6.244      0.000      -0.052      -0.027\n",
       " length_content      7.817e-05    3.2e-05      2.446      0.014    1.55e-05       0.000\n",
       "images                  0.0157      0.002      8.132      0.000       0.012       0.020\n",
       "videos                  0.0100      0.003      2.942      0.003       0.003       0.017\n",
       " keywords               0.0594      0.007      8.357      0.000       0.045       0.073\n",
       "onWeekend               1.1738      0.051     23.151      0.000       1.074       1.273\n",
       "Relevancy               0.6256      0.055     11.404      0.000       0.518       0.733\n",
       "negative_words         -0.7926      0.087     -9.123      0.000      -0.963      -0.622\n",
       " title_subjectivity     0.1032      0.042      2.445      0.015       0.020       0.186\n",
       " title_sentiments       0.1803      0.053      3.418      0.001       0.077       0.284\n",
       "=======================================================================================\n",
       "\"\"\""
      ]
     },
     "execution_count": 27,
     "metadata": {},
     "output_type": "execute_result"
    }
   ],
   "source": [
    "#After deleting 'Positive_words' building and showing the result of Linear Regression model.\n",
    "\n",
    "logm2 = sm.GLM(y_train,(sm.add_constant(x_train2)), family = sm.families.Binomial())\n",
    "logm2.fit().summary()"
   ]
  },
  {
   "cell_type": "code",
   "execution_count": 28,
   "metadata": {},
   "outputs": [
    {
     "name": "stderr",
     "output_type": "stream",
     "text": [
      "C:\\Users\\rehnu\\Anaconda3\\lib\\site-packages\\sklearn\\linear_model\\logistic.py:432: FutureWarning: Default solver will be changed to 'lbfgs' in 0.22. Specify a solver to silence this warning.\n",
      "  FutureWarning)\n"
     ]
    },
    {
     "data": {
      "text/plain": [
       "LogisticRegression(C=1.0, class_weight=None, dual=False, fit_intercept=True,\n",
       "                   intercept_scaling=1, l1_ratio=None, max_iter=100,\n",
       "                   multi_class='warn', n_jobs=None, penalty='l2',\n",
       "                   random_state=None, solver='warn', tol=0.0001, verbose=0,\n",
       "                   warm_start=False)"
      ]
     },
     "execution_count": 28,
     "metadata": {},
     "output_type": "execute_result"
    }
   ],
   "source": [
    "#Building Logistic Regression model with train dataset of dependent and independent variables.\n",
    "\n",
    "from sklearn.linear_model import LogisticRegression\n",
    "from sklearn import metrics\n",
    "logsk = LogisticRegression()\n",
    "logsk.fit(x_train,y_train)"
   ]
  },
  {
   "cell_type": "code",
   "execution_count": 29,
   "metadata": {},
   "outputs": [
    {
     "data": {
      "text/plain": [
       "LogisticRegression(C=1.0, class_weight=None, dual=False, fit_intercept=True,\n",
       "                   intercept_scaling=1, l1_ratio=None, max_iter=100,\n",
       "                   multi_class='warn', n_jobs=None, penalty='l2',\n",
       "                   random_state=None, solver='warn', tol=0.0001, verbose=0,\n",
       "                   warm_start=False)"
      ]
     },
     "execution_count": 29,
     "metadata": {},
     "output_type": "execute_result"
    }
   ],
   "source": [
    "logsk"
   ]
  },
  {
   "cell_type": "code",
   "execution_count": 30,
   "metadata": {},
   "outputs": [],
   "source": [
    "#Creating a vaiable to predict values for the test data set of independent variables.\n",
    "\n",
    "y_pred = logsk.predict_proba(x_test)"
   ]
  },
  {
   "cell_type": "code",
   "execution_count": 32,
   "metadata": {},
   "outputs": [],
   "source": [
    "#Declaring a dataframe of the predicted variable data\n",
    "\n",
    "y_pred_df = pd.DataFrame(y_pred)"
   ]
  },
  {
   "cell_type": "code",
   "execution_count": 33,
   "metadata": {},
   "outputs": [],
   "source": [
    "#Showing only the shared content column\n",
    "\n",
    "y_pred_1 = y_pred_df.iloc[:,[1]]"
   ]
  },
  {
   "cell_type": "code",
   "execution_count": 34,
   "metadata": {},
   "outputs": [
    {
     "data": {
      "text/html": [
       "<div>\n",
       "<style scoped>\n",
       "    .dataframe tbody tr th:only-of-type {\n",
       "        vertical-align: middle;\n",
       "    }\n",
       "\n",
       "    .dataframe tbody tr th {\n",
       "        vertical-align: top;\n",
       "    }\n",
       "\n",
       "    .dataframe thead th {\n",
       "        text-align: right;\n",
       "    }\n",
       "</style>\n",
       "<table border=\"1\" class=\"dataframe\">\n",
       "  <thead>\n",
       "    <tr style=\"text-align: right;\">\n",
       "      <th></th>\n",
       "      <th>1</th>\n",
       "    </tr>\n",
       "  </thead>\n",
       "  <tbody>\n",
       "    <tr>\n",
       "      <td>0</td>\n",
       "      <td>0.737322</td>\n",
       "    </tr>\n",
       "    <tr>\n",
       "      <td>1</td>\n",
       "      <td>0.710362</td>\n",
       "    </tr>\n",
       "    <tr>\n",
       "      <td>2</td>\n",
       "      <td>0.768704</td>\n",
       "    </tr>\n",
       "    <tr>\n",
       "      <td>3</td>\n",
       "      <td>0.763017</td>\n",
       "    </tr>\n",
       "    <tr>\n",
       "      <td>4</td>\n",
       "      <td>0.600920</td>\n",
       "    </tr>\n",
       "  </tbody>\n",
       "</table>\n",
       "</div>"
      ],
      "text/plain": [
       "          1\n",
       "0  0.737322\n",
       "1  0.710362\n",
       "2  0.768704\n",
       "3  0.763017\n",
       "4  0.600920"
      ]
     },
     "execution_count": 34,
     "metadata": {},
     "output_type": "execute_result"
    }
   ],
   "source": [
    "y_pred_1.head()"
   ]
  },
  {
   "cell_type": "code",
   "execution_count": 35,
   "metadata": {},
   "outputs": [],
   "source": [
    "#Another dataframe with the dependent varible's test dataset.\n",
    "\n",
    "y_test_df = pd.DataFrame(y_test)"
   ]
  },
  {
   "cell_type": "code",
   "execution_count": 36,
   "metadata": {},
   "outputs": [],
   "source": [
    "#Joining two dataframes together and removing their index number column so that they appear side by side.\n",
    "\n",
    "y_pred_1.reset_index(drop= True, inplace = True)\n",
    "y_test_df.reset_index(drop= True, inplace = True)\n",
    "y_pred_1 = y_pred_1.rename(columns= {1 : 'WasShared_Predicted'})\n",
    "y_pred_final = pd.concat([y_test_df, y_pred_1],axis = 1)"
   ]
  },
  {
   "cell_type": "code",
   "execution_count": 37,
   "metadata": {},
   "outputs": [
    {
     "data": {
      "text/html": [
       "<div>\n",
       "<style scoped>\n",
       "    .dataframe tbody tr th:only-of-type {\n",
       "        vertical-align: middle;\n",
       "    }\n",
       "\n",
       "    .dataframe tbody tr th {\n",
       "        vertical-align: top;\n",
       "    }\n",
       "\n",
       "    .dataframe thead th {\n",
       "        text-align: right;\n",
       "    }\n",
       "</style>\n",
       "<table border=\"1\" class=\"dataframe\">\n",
       "  <thead>\n",
       "    <tr style=\"text-align: right;\">\n",
       "      <th></th>\n",
       "      <th>wasShared</th>\n",
       "      <th>WasShared_Predicted</th>\n",
       "    </tr>\n",
       "  </thead>\n",
       "  <tbody>\n",
       "    <tr>\n",
       "      <td>0</td>\n",
       "      <td>1</td>\n",
       "      <td>0.737322</td>\n",
       "    </tr>\n",
       "    <tr>\n",
       "      <td>1</td>\n",
       "      <td>0</td>\n",
       "      <td>0.710362</td>\n",
       "    </tr>\n",
       "    <tr>\n",
       "      <td>2</td>\n",
       "      <td>1</td>\n",
       "      <td>0.768704</td>\n",
       "    </tr>\n",
       "    <tr>\n",
       "      <td>3</td>\n",
       "      <td>0</td>\n",
       "      <td>0.763017</td>\n",
       "    </tr>\n",
       "    <tr>\n",
       "      <td>4</td>\n",
       "      <td>1</td>\n",
       "      <td>0.600920</td>\n",
       "    </tr>\n",
       "    <tr>\n",
       "      <td>5</td>\n",
       "      <td>1</td>\n",
       "      <td>0.568105</td>\n",
       "    </tr>\n",
       "    <tr>\n",
       "      <td>6</td>\n",
       "      <td>0</td>\n",
       "      <td>0.681206</td>\n",
       "    </tr>\n",
       "    <tr>\n",
       "      <td>7</td>\n",
       "      <td>1</td>\n",
       "      <td>0.713121</td>\n",
       "    </tr>\n",
       "    <tr>\n",
       "      <td>8</td>\n",
       "      <td>0</td>\n",
       "      <td>0.756291</td>\n",
       "    </tr>\n",
       "    <tr>\n",
       "      <td>9</td>\n",
       "      <td>1</td>\n",
       "      <td>0.758318</td>\n",
       "    </tr>\n",
       "  </tbody>\n",
       "</table>\n",
       "</div>"
      ],
      "text/plain": [
       "   wasShared  WasShared_Predicted\n",
       "0          1             0.737322\n",
       "1          0             0.710362\n",
       "2          1             0.768704\n",
       "3          0             0.763017\n",
       "4          1             0.600920\n",
       "5          1             0.568105\n",
       "6          0             0.681206\n",
       "7          1             0.713121\n",
       "8          0             0.756291\n",
       "9          1             0.758318"
      ]
     },
     "execution_count": 37,
     "metadata": {},
     "output_type": "execute_result"
    }
   ],
   "source": [
    "#Showing dependent variable's actual and predicted results.\n",
    "\n",
    "y_pred_final.head(10)"
   ]
  },
  {
   "cell_type": "code",
   "execution_count": 38,
   "metadata": {},
   "outputs": [],
   "source": [
    "#Creating a new column with a condition to be matched with actual result.\n",
    "\n",
    "y_pred_final['Predicted'] = y_pred_final.WasShared_Predicted.map(lambda x: 1 if x >0.5 else 0 )"
   ]
  },
  {
   "cell_type": "code",
   "execution_count": 39,
   "metadata": {},
   "outputs": [
    {
     "data": {
      "text/html": [
       "<div>\n",
       "<style scoped>\n",
       "    .dataframe tbody tr th:only-of-type {\n",
       "        vertical-align: middle;\n",
       "    }\n",
       "\n",
       "    .dataframe tbody tr th {\n",
       "        vertical-align: top;\n",
       "    }\n",
       "\n",
       "    .dataframe thead th {\n",
       "        text-align: right;\n",
       "    }\n",
       "</style>\n",
       "<table border=\"1\" class=\"dataframe\">\n",
       "  <thead>\n",
       "    <tr style=\"text-align: right;\">\n",
       "      <th></th>\n",
       "      <th>wasShared</th>\n",
       "      <th>WasShared_Predicted</th>\n",
       "      <th>Predicted</th>\n",
       "    </tr>\n",
       "  </thead>\n",
       "  <tbody>\n",
       "    <tr>\n",
       "      <td>0</td>\n",
       "      <td>1</td>\n",
       "      <td>0.737322</td>\n",
       "      <td>1</td>\n",
       "    </tr>\n",
       "    <tr>\n",
       "      <td>1</td>\n",
       "      <td>0</td>\n",
       "      <td>0.710362</td>\n",
       "      <td>1</td>\n",
       "    </tr>\n",
       "    <tr>\n",
       "      <td>2</td>\n",
       "      <td>1</td>\n",
       "      <td>0.768704</td>\n",
       "      <td>1</td>\n",
       "    </tr>\n",
       "    <tr>\n",
       "      <td>3</td>\n",
       "      <td>0</td>\n",
       "      <td>0.763017</td>\n",
       "      <td>1</td>\n",
       "    </tr>\n",
       "    <tr>\n",
       "      <td>4</td>\n",
       "      <td>1</td>\n",
       "      <td>0.600920</td>\n",
       "      <td>1</td>\n",
       "    </tr>\n",
       "    <tr>\n",
       "      <td>5</td>\n",
       "      <td>1</td>\n",
       "      <td>0.568105</td>\n",
       "      <td>1</td>\n",
       "    </tr>\n",
       "    <tr>\n",
       "      <td>6</td>\n",
       "      <td>0</td>\n",
       "      <td>0.681206</td>\n",
       "      <td>1</td>\n",
       "    </tr>\n",
       "    <tr>\n",
       "      <td>7</td>\n",
       "      <td>1</td>\n",
       "      <td>0.713121</td>\n",
       "      <td>1</td>\n",
       "    </tr>\n",
       "    <tr>\n",
       "      <td>8</td>\n",
       "      <td>0</td>\n",
       "      <td>0.756291</td>\n",
       "      <td>1</td>\n",
       "    </tr>\n",
       "    <tr>\n",
       "      <td>9</td>\n",
       "      <td>1</td>\n",
       "      <td>0.758318</td>\n",
       "      <td>1</td>\n",
       "    </tr>\n",
       "  </tbody>\n",
       "</table>\n",
       "</div>"
      ],
      "text/plain": [
       "   wasShared  WasShared_Predicted  Predicted\n",
       "0          1             0.737322          1\n",
       "1          0             0.710362          1\n",
       "2          1             0.768704          1\n",
       "3          0             0.763017          1\n",
       "4          1             0.600920          1\n",
       "5          1             0.568105          1\n",
       "6          0             0.681206          1\n",
       "7          1             0.713121          1\n",
       "8          0             0.756291          1\n",
       "9          1             0.758318          1"
      ]
     },
     "execution_count": 39,
     "metadata": {},
     "output_type": "execute_result"
    }
   ],
   "source": [
    "y_pred_final.head(10)"
   ]
  },
  {
   "cell_type": "code",
   "execution_count": 40,
   "metadata": {},
   "outputs": [],
   "source": [
    "from sklearn import metrics"
   ]
  },
  {
   "cell_type": "code",
   "execution_count": 41,
   "metadata": {},
   "outputs": [],
   "source": [
    "#Creating confusion matrix.\n",
    "\n",
    "cm = metrics.confusion_matrix(y_pred_final.wasShared, y_pred_final.Predicted)"
   ]
  },
  {
   "cell_type": "code",
   "execution_count": 42,
   "metadata": {},
   "outputs": [
    {
     "data": {
      "text/plain": [
       "array([[  31, 3704],\n",
       "       [  28, 8131]], dtype=int64)"
      ]
     },
     "execution_count": 42,
     "metadata": {},
     "output_type": "execute_result"
    }
   ],
   "source": [
    "cm"
   ]
  },
  {
   "cell_type": "code",
   "execution_count": 43,
   "metadata": {},
   "outputs": [
    {
     "data": {
      "text/plain": [
       "0.6862283504287876"
      ]
     },
     "execution_count": 43,
     "metadata": {},
     "output_type": "execute_result"
    }
   ],
   "source": [
    "#showing the overall accuracy of the model.\n",
    "\n",
    "metrics.accuracy_score(y_pred_final.wasShared, y_pred_final.Predicted)"
   ]
  },
  {
   "cell_type": "code",
   "execution_count": 44,
   "metadata": {},
   "outputs": [],
   "source": [
    "#A model was built using Logistic Regression to predict if the content was shared or not.\n",
    "#All the independent variables were affecting if the content will be shared or not except 'Positive_words' column as it's \n",
    "#p-value was higher.\n",
    "#From the logistic regression model I can say that the number of words in the content (length_content), the number of images in the content (images), the number of videos in the content (videos), the number of keywords (keywords), if the content was read on a weekend (onWeekend), a measure of the relevancy of the content (relevancy), a measure of subjectivity in the title (title_subjectivity), a measure of sentiments in the title (title_sentiments) are the factors that can determine whether a new content will be shared or not.\n",
    "#For one-unit change in these factors(the log odds ratio of wasShared (measure if the content was shared) will be increased.\n",
    "#The Accuracy is 0.686(68.6%) which means the model is capable of classifying instances correctly in 68.6% cases."
   ]
  },
  {
   "cell_type": "code",
   "execution_count": null,
   "metadata": {},
   "outputs": [],
   "source": []
  },
  {
   "cell_type": "code",
   "execution_count": null,
   "metadata": {},
   "outputs": [],
   "source": []
  },
  {
   "cell_type": "code",
   "execution_count": null,
   "metadata": {},
   "outputs": [],
   "source": []
  }
 ],
 "metadata": {
  "kernelspec": {
   "display_name": "Python 3",
   "language": "python",
   "name": "python3"
  },
  "language_info": {
   "codemirror_mode": {
    "name": "ipython",
    "version": 3
   },
   "file_extension": ".py",
   "mimetype": "text/x-python",
   "name": "python",
   "nbconvert_exporter": "python",
   "pygments_lexer": "ipython3",
   "version": "3.7.4"
  }
 },
 "nbformat": 4,
 "nbformat_minor": 2
}
